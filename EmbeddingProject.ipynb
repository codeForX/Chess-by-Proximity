{
 "cells": [
  {
   "attachments": {},
   "cell_type": "markdown",
   "metadata": {},
   "source": [
    "# Sruly Rosenblat Final Project\n",
    "\n",
    "## Chess by Proximity:  Playing Chess using Embeddings and N-grams\n",
    "\n",
    "For N-gram testing\n",
    "- download dependence's\n",
    "- prepare classes\n",
    "- prepare functions\n",
    "- load data if already cleaned\n",
    "- split train test\n",
    "- train and test N-gram model\n",
    "\n",
    "\n",
    "For Embeddings model testing\n",
    "- download dependence's\n",
    "- prepare classes\n",
    "- prepare functions\n",
    "- load data if already cleaned\n",
    "- split train test\n",
    "- test model\n"
   ]
  },
  {
   "attachments": {},
   "cell_type": "markdown",
   "metadata": {},
   "source": [
    "# download dependence's  "
   ]
  },
  {
   "cell_type": "code",
   "execution_count": 238,
   "metadata": {},
   "outputs": [
    {
     "name": "stdout",
     "output_type": "stream",
     "text": [
      "Requirement already satisfied: pip in /opt/homebrew/lib/python3.10/site-packages (23.1.2)\n",
      "Note: you may need to restart the kernel to use updated packages.\n",
      "Requirement already satisfied: faiss-cpu in /opt/homebrew/lib/python3.10/site-packages (1.7.3)\n",
      "Note: you may need to restart the kernel to use updated packages.\n",
      "Requirement already satisfied: seaborn in /opt/homebrew/lib/python3.10/site-packages (0.12.2)\n",
      "Requirement already satisfied: numpy!=1.24.0,>=1.17 in /opt/homebrew/lib/python3.10/site-packages (from seaborn) (1.23.5)\n",
      "Requirement already satisfied: pandas>=0.25 in /opt/homebrew/lib/python3.10/site-packages (from seaborn) (1.5.2)\n",
      "Requirement already satisfied: matplotlib!=3.6.1,>=3.1 in /opt/homebrew/lib/python3.10/site-packages (from seaborn) (3.6.2)\n",
      "Requirement already satisfied: contourpy>=1.0.1 in /opt/homebrew/lib/python3.10/site-packages (from matplotlib!=3.6.1,>=3.1->seaborn) (1.0.6)\n",
      "Requirement already satisfied: cycler>=0.10 in /opt/homebrew/lib/python3.10/site-packages (from matplotlib!=3.6.1,>=3.1->seaborn) (0.11.0)\n",
      "Requirement already satisfied: fonttools>=4.22.0 in /opt/homebrew/lib/python3.10/site-packages (from matplotlib!=3.6.1,>=3.1->seaborn) (4.38.0)\n",
      "Requirement already satisfied: kiwisolver>=1.0.1 in /opt/homebrew/lib/python3.10/site-packages (from matplotlib!=3.6.1,>=3.1->seaborn) (1.4.4)\n",
      "Requirement already satisfied: packaging>=20.0 in /opt/homebrew/lib/python3.10/site-packages (from matplotlib!=3.6.1,>=3.1->seaborn) (21.3)\n",
      "Requirement already satisfied: pillow>=6.2.0 in /opt/homebrew/lib/python3.10/site-packages (from matplotlib!=3.6.1,>=3.1->seaborn) (9.4.0)\n",
      "Requirement already satisfied: pyparsing>=2.2.1 in /opt/homebrew/lib/python3.10/site-packages (from matplotlib!=3.6.1,>=3.1->seaborn) (3.0.9)\n",
      "Requirement already satisfied: python-dateutil>=2.7 in /opt/homebrew/lib/python3.10/site-packages (from matplotlib!=3.6.1,>=3.1->seaborn) (2.8.2)\n",
      "Requirement already satisfied: pytz>=2020.1 in /opt/homebrew/lib/python3.10/site-packages (from pandas>=0.25->seaborn) (2022.7)\n",
      "Requirement already satisfied: six>=1.5 in /opt/homebrew/lib/python3.10/site-packages (from python-dateutil>=2.7->matplotlib!=3.6.1,>=3.1->seaborn) (1.12.0)\n",
      "Note: you may need to restart the kernel to use updated packages.\n",
      "\u001b[31mERROR: Could not find a version that satisfies the requirement redis-server (from versions: none)\u001b[0m\u001b[31m\n",
      "\u001b[0m\u001b[31mERROR: No matching distribution found for redis-server\u001b[0m\u001b[31m\n",
      "\u001b[0mNote: you may need to restart the kernel to use updated packages.\n"
     ]
    }
   ],
   "source": [
    "%pip install --upgrade pip\n",
    "# for cpu\n",
    "%pip install faiss-cpu\n",
    "# for gpu\n",
    "# %pip install faiss-gpu\n",
    "%pip install seaborn\n",
    "%pip install  redis"
   ]
  },
  {
   "cell_type": "code",
   "execution_count": 4,
   "metadata": {},
   "outputs": [],
   "source": [
    "import chess.pgn\n",
    "import numpy as np\n",
    "from gensim.models import Word2Vec\n",
    "import json\n",
    "from sklearn.model_selection import train_test_split\n",
    "import asyncio\n",
    "import io\n",
    "import faiss\n",
    "import random\n",
    "from nltk.util import ngrams\n",
    "import pandas as pd\n",
    "import redis\n",
    "import seaborn as sns\n",
    "import matplotlib.pyplot as plt\n",
    "\n",
    "np.set_printoptions(suppress=True)\n"
   ]
  },
  {
   "attachments": {},
   "cell_type": "markdown",
   "metadata": {},
   "source": [
    "## Redis or dictionary setup\n",
    "\n",
    "I used redis to speed up the testing process by caching valid moves"
   ]
  },
  {
   "cell_type": "code",
   "execution_count": 5,
   "metadata": {},
   "outputs": [],
   "source": [
    "\n",
    "# redis is faster but requires a server to be running\n",
    "# red = redis.Redis(host='localhost', port=6379, db=0, charset=\"utf-8\", decode_responses=True)\n",
    "\n",
    "# I made it that a dictionary can be used as a drop in replacement of redis, no api keys required 😀\n",
    "red = {}"
   ]
  },
  {
   "attachments": {},
   "cell_type": "markdown",
   "metadata": {},
   "source": [
    "# prepare classes to aid in testing"
   ]
  },
  {
   "cell_type": "code",
   "execution_count": 23,
   "metadata": {},
   "outputs": [],
   "source": [
    "\n",
    "\n",
    "class MoveSet():\n",
    "    '''\n",
    "    a class that stores a set of moves\n",
    "    '''\n",
    "    def __init__(self) -> None:\n",
    "        self.moves = set()\n",
    "    def add(self, move : str):\n",
    "        self.moves.add(move)\n",
    "    def __str__(self) -> str:\n",
    "        return str(self.moves)\n",
    "    def __repr__(self) -> str:\n",
    "        return str(self)\n",
    "    def __len__(self) -> int:\n",
    "        return len(self.moves)\n",
    "    \n",
    "class CounterByMove():\n",
    "    '''\n",
    "    a class that tracks valid moves by move count\n",
    "    '''\n",
    "    def __init__(self):\n",
    "        self.moves = []\n",
    "        self.largestMove = 0\n",
    "\n",
    "\n",
    "    def addMoves(self, k, validMoves : list | set):\n",
    "        '''\n",
    "        adds a set of moves to the tracker\n",
    "        '''\n",
    "        if k == self.largestMove:\n",
    "            self.largestMove = self.largestMove + 1\n",
    "            self.moves.append(MoveSet())\n",
    "        elif k > self.largestMove:\n",
    "            raise IndexError(\"k must be less than or equal to the largest move\")  \n",
    "        for move in validMoves:\n",
    "            self.moves[k].add(move)\n",
    "    def moveCount(self):\n",
    "        '''\n",
    "        returns the number of moves that have been added\n",
    "        '''\n",
    "        return sum([len(moveSet) for moveSet in self.moves])\n",
    "    def __getitem__(self, key):\n",
    "        if key < 0:\n",
    "            raise IndexError(\"key must be positive\")\n",
    "        if key > self.largestMove:\n",
    "            return MoveSet()\n",
    "        return self.moves[key]\n",
    "    def validAverage(self):\n",
    "        '''\n",
    "        returns the average number of valid moves per move\n",
    "        '''\n",
    "        count = self.moveCount()\n",
    "        if  count == 0:\n",
    "            return 0\n",
    "        return [len(moveSet) / count for moveSet in self.moves] \n",
    "    def __str__(self):\n",
    "        return str(self.moves)\n",
    "    def __repr__(self) -> str:\n",
    "        return str(self)\n",
    "        \n",
    "    \n",
    "class ProbabilityTracker():\n",
    "    '''\n",
    "    a class that tracks the probability of a move being played\n",
    "    '''\n",
    "    def __init__(self):\n",
    "        self.value = 0\n",
    "        self.count = 0\n",
    "        self.zeroCount = 0\n",
    "\n",
    "    def add(self, value : float | int):\n",
    "        self.value += value\n",
    "        self.count += 1 \n",
    "        if value == 0:\n",
    "            self.zeroCount += 1\n",
    "        return self\n",
    "    \n",
    "    def __iadd__(self, value : float | int):\n",
    "        return self.add(value)\n",
    "    \n",
    "\n",
    "    \n",
    "    def average(self):\n",
    "        if self.count == 0:\n",
    "            return 0\n",
    "        return self.value/self.count\n",
    "    \n",
    "    def nonZeroAverage(self):\n",
    "        if self.count == 0:\n",
    "            return 0\n",
    "        return self.value/(self.count - self.zeroCount)\n",
    "    \n",
    "    def opposite(self):\n",
    "        return 1 - self.average()\n",
    "    \n",
    "    def __str__(self):\n",
    "        return str(self.average())\n",
    "    \n",
    "    def __repr__(self):\n",
    "        return f'prob({self.__str__()})'\n",
    "    \n",
    "\n",
    "class probabilityByMove():\n",
    "    '''\n",
    "    a class that tracks the probability of every move in a game\n",
    "\n",
    "    if you try to access a move that hasn't been accessed before, it will return a new probabilityTracker\n",
    "    '''\n",
    "    def __init__(self):\n",
    "        self.moveProbabilities = {}\n",
    "        self.largestMove = 0\n",
    "    def average(self):\n",
    "        '''\n",
    "        returns the average probability of all moves\n",
    "        '''\n",
    "        averages = self.averages()\n",
    "        averages = [move for move in averages if move != None]\n",
    "        # print(len(averages))\n",
    "        return sum(averages) / len(averages) \n",
    "    def averages(self):\n",
    "        '''\n",
    "        returns a list of the average probability of each move\n",
    "        '''\n",
    "        li = []\n",
    "        for move in range(self.largestMove + 1):\n",
    "            # if move in self.moveProbabilities:\n",
    "                li.append(self[move].average())\n",
    "            # else:\n",
    "            #     print\n",
    "            #     li.append(None)\n",
    "        return li\n",
    "    \n",
    "    def nonZeroAverages(self):\n",
    "        '''\n",
    "        returns a list of the average probability of each move, but only counting the games where the move was played\n",
    "        '''\n",
    "        li = []\n",
    "        for move in range(self.largestMove + 1):\n",
    "            if move in self.moveProbabilities:\n",
    "                li.append(self[move].nonZeroAverage())\n",
    "            else:\n",
    "                li.append(None)\n",
    "        return li\n",
    "    \n",
    "    \n",
    "    def __getitem__(self, key):\n",
    "        if key < 0:\n",
    "            raise IndexError(\"key must be positive\")\n",
    "        if key not in self.moveProbabilities:\n",
    "            tracker = ProbabilityTracker()\n",
    "            self.moveProbabilities[key] = tracker\n",
    "            return self.moveProbabilities[key]\n",
    "        return self.moveProbabilities[key]\n",
    "    \n",
    "    def __setitem__(self,key, value):\n",
    "        if key not in self.moveProbabilities:\n",
    "            tracker = ProbabilityTracker()\n",
    "            tracker += value\n",
    "            self.moveProbabilities[key] = tracker\n",
    "        else:\n",
    "            self.moveProbabilities[key] = value\n",
    "        self.largestMove = max(self.largestMove, key)\n",
    "        \n",
    "    def __str__(self):\n",
    "        return str(self.averages())\n",
    "    \n",
    "    def __repr__(self):\n",
    "        return self.__str__()\n",
    "    def __iter__(self):\n",
    "        for move in self.moveProbabilities:\n",
    "            yield self.moveProbabilities[move]\n"
   ]
  },
  {
   "attachments": {},
   "cell_type": "markdown",
   "metadata": {},
   "source": [
    "# prepare Functions\n",
    "used in both N-gram and embedding models"
   ]
  },
  {
   "cell_type": "code",
   "execution_count": 21,
   "metadata": {},
   "outputs": [],
   "source": [
    "# validMovesDict = {}\n",
    "\n",
    "def incrementCount(dic,priorMoves,key):\n",
    "    if not dic.get(priorMoves):\n",
    "        dic[priorMoves] = {}\n",
    "    if key in dic[priorMoves]:\n",
    "        dic[priorMoves][key] += 1\n",
    "    else:\n",
    "        dic[priorMoves][key] = 1\n",
    "    return dic\n",
    "\n",
    "def calculateProbability(dic:dict):\n",
    "    probabilities = {}\n",
    "    total = sum(dic.values())\n",
    "    for key in dic:\n",
    "        probabilities[key] = dic[key]/total\n",
    "    return probabilities\n",
    "\n",
    "def randomMove(moves:dict):\n",
    "    probabilities = calculateProbability(moves)\n",
    "    weights = list(probabilities.values())\n",
    "    moves = list(probabilities.keys())\n",
    "    return random.choices(moves, weights=weights, k=1)[0]\n",
    "\n",
    "def getValidMoves(pgn: str):\n",
    "    try:\n",
    "        if red.get(pgn) != None:\n",
    "            return json.loads(red.get(pgn)) \n",
    "    except:\n",
    "        pass\n",
    "\n",
    "    game = chess.pgn.read_game(io.StringIO(pgn))\n",
    "    if game and  game.errors:\n",
    "        raise Exception(\"Invalid PGN\" + game.errors)\n",
    "    if pgn:\n",
    "            \n",
    "            mainline_moves = game.mainline_moves()\n",
    "    else:\n",
    "        mainline_moves = []\n",
    "    \n",
    "    \n",
    "    board = chess.Board()\n",
    "    for move in mainline_moves:\n",
    "        board.push(move)\n",
    "    legalMoves = [board.san(x) for x in board.legal_moves]\n",
    "    if type(red) == dict:\n",
    "        red[pgn] = json.dumps(legalMoves)\n",
    "    else:\n",
    "        red.set(pgn,json.dumps(legalMoves))\n",
    "\n",
    "    return legalMoves\n",
    "\n",
    "    \n",
    "def probabilityMoveValid(pgn:str, moves:dict):\n",
    "    probabilities = calculateProbability(moves)\n",
    "    validMoves = getValidMoves(pgn)\n",
    "    probability = 0\n",
    "    for move in validMoves:\n",
    "        if move in probabilities:\n",
    "            probability += probabilities[move]\n",
    "    return probability, validMoves\n",
    "\n",
    "def probabilityMoveSame(moves:dict, expectedMove:str):\n",
    "    probabilities = calculateProbability(moves)\n",
    "    if expectedMove in probabilities:\n",
    "        return probabilities[expectedMove]\n",
    "    else:\n",
    "        return 0\n"
   ]
  },
  {
   "attachments": {},
   "cell_type": "markdown",
   "metadata": {},
   "source": [
    "# prepare data\n",
    "clean data then save it \n"
   ]
  },
  {
   "cell_type": "code",
   "execution_count": 40,
   "metadata": {},
   "outputs": [],
   "source": [
    "def fixMoves(pgn: str):\n",
    "    '''\n",
    "    make moves the same format as chess library takes\n",
    "    '''\n",
    "    game = chess.pgn.read_game(io.StringIO(pgn))\n",
    "    if  game.errors:\n",
    "        raise Exception(\"Invalid PGN\" + game.errors)\n",
    "    board = chess.Board()\n",
    "    if pgn:\n",
    "            mainline_moves = game.mainline_moves()\n",
    "    else:\n",
    "        mainline_moves = []\n",
    "    board = chess.Board()\n",
    "    pgn = ''\n",
    "\n",
    "    for move in mainline_moves:\n",
    "        pgn += board.san(move) + ' '\n",
    "        board.push(move)\n",
    "    return pgn.strip()"
   ]
  },
  {
   "cell_type": "code",
   "execution_count": 41,
   "metadata": {},
   "outputs": [
    {
     "data": {
      "text/plain": [
       "{'draw', 'mate', 'outoftime', 'resign'}"
      ]
     },
     "execution_count": 41,
     "metadata": {},
     "output_type": "execute_result"
    }
   ],
   "source": [
    "gamesDF = pd.read_csv('games.csv')\n",
    "set(gamesDF['victory_status'] )\n"
   ]
  },
  {
   "cell_type": "code",
   "execution_count": 42,
   "metadata": {},
   "outputs": [],
   "source": [
    "with open('games.txt','w') as f:\n",
    "    for gram in gamesDF.iterrows():\n",
    "        \n",
    "        f.write(gram[1]['moves'] + '\\n')"
   ]
  },
  {
   "cell_type": "code",
   "execution_count": 43,
   "metadata": {},
   "outputs": [],
   "source": [
    "with open('games.txt', 'r') as f:\n",
    "    tempGames = f.read().splitlines()\n",
    "\n",
    "    with open('cleanedGames.txt', 'w') as f2:\n",
    "        for gram in tempGames:\n",
    "            try:\n",
    "                fixed = fixMoves(gram)\n",
    "                movesInPGN  = fixed.split(' ')\n",
    "                if len(movesInPGN) > 5 and len(movesInPGN) < 130:\n",
    "                    f2.write(fixed + '\\n')\n",
    "                # f2.write(fixed + '\\n')\n",
    "            except Exception as e:\n",
    "                print(e)"
   ]
  },
  {
   "attachments": {},
   "cell_type": "markdown",
   "metadata": {},
   "source": [
    "# Load data\n",
    "read results into games array"
   ]
  },
  {
   "cell_type": "code",
   "execution_count": 9,
   "metadata": {},
   "outputs": [
    {
     "data": {
      "text/plain": [
       "18891"
      ]
     },
     "execution_count": 9,
     "metadata": {},
     "output_type": "execute_result"
    }
   ],
   "source": [
    "# Load the chess game data from file\n",
    "with open('cleanedGames.txt', 'r') as f:\n",
    "    games = f.read().splitlines()\n",
    "\n",
    "# put the games into a list of lists\n",
    "games = [game.split() for game in games]\n",
    "len(games)"
   ]
  },
  {
   "attachments": {},
   "cell_type": "markdown",
   "metadata": {},
   "source": [
    "# Train Test Split\n",
    "\n",
    "split train test sets"
   ]
  },
  {
   "cell_type": "code",
   "execution_count": 10,
   "metadata": {},
   "outputs": [
    {
     "data": {
      "text/plain": [
       "(15112, 3779)"
      ]
     },
     "execution_count": 10,
     "metadata": {},
     "output_type": "execute_result"
    }
   ],
   "source": [
    "# split the data into training and testing sets\n",
    "train, test = train_test_split(games, test_size=0.2, random_state=42)\n",
    "len(train), len(test)"
   ]
  },
  {
   "attachments": {},
   "cell_type": "markdown",
   "metadata": {},
   "source": [
    "# train and test N-gram model\n"
   ]
  },
  {
   "cell_type": "code",
   "execution_count": 27,
   "metadata": {},
   "outputs": [
    {
     "data": {
      "text/plain": [
       "874506"
      ]
     },
     "execution_count": 27,
     "metadata": {},
     "output_type": "execute_result"
    }
   ],
   "source": [
    "# prepare the data for the model\n",
    "N = 5\n",
    "grams  = []\n",
    "for gram in train:\n",
    "    for x in ngrams(gram,N, pad_left=True, left_pad_symbol='<s>' ):\n",
    "        grams.append(x)\n",
    "len(grams)"
   ]
  },
  {
   "cell_type": "code",
   "execution_count": 28,
   "metadata": {},
   "outputs": [],
   "source": [
    "moveDict = {}\n",
    "for gram in grams:\n",
    "    incrementCount(moveDict, ' '.join(gram[:-1]), gram[-1])"
   ]
  },
  {
   "cell_type": "code",
   "execution_count": 176,
   "metadata": {},
   "outputs": [
    {
     "data": {
      "text/plain": [
       "[('<s>', '<s>', '<s>', '<s>', 'd4'),\n",
       " ('<s>', '<s>', '<s>', 'd4', 'c6'),\n",
       " ('<s>', '<s>', 'd4', 'c6', 'e4'),\n",
       " ('<s>', 'd4', 'c6', 'e4', 'd5'),\n",
       " ('d4', 'c6', 'e4', 'd5', 'exd5'),\n",
       " ('c6', 'e4', 'd5', 'exd5', 'cxd5'),\n",
       " ('e4', 'd5', 'exd5', 'cxd5', 'Nc3'),\n",
       " ('d5', 'exd5', 'cxd5', 'Nc3', 'Nf6'),\n",
       " ('exd5', 'cxd5', 'Nc3', 'Nf6', 'Bg5'),\n",
       " ('cxd5', 'Nc3', 'Nf6', 'Bg5', 'Bf5'),\n",
       " ('Nc3', 'Nf6', 'Bg5', 'Bf5', 'Bxf6'),\n",
       " ('Nf6', 'Bg5', 'Bf5', 'Bxf6', 'exf6'),\n",
       " ('Bg5', 'Bf5', 'Bxf6', 'exf6', 'Nf3'),\n",
       " ('Bf5', 'Bxf6', 'exf6', 'Nf3', 'Bd6'),\n",
       " ('Bxf6', 'exf6', 'Nf3', 'Bd6', 'Bb5+'),\n",
       " ('exf6', 'Nf3', 'Bd6', 'Bb5+', 'Nc6'),\n",
       " ('Nf3', 'Bd6', 'Bb5+', 'Nc6', 'Nxd5'),\n",
       " ('Bd6', 'Bb5+', 'Nc6', 'Nxd5', 'Bb4+'),\n",
       " ('Bb5+', 'Nc6', 'Nxd5', 'Bb4+', 'Nxb4'),\n",
       " ('<s>', '<s>', '<s>', '<s>', 'd4'),\n",
       " ('<s>', '<s>', '<s>', 'd4', 'd5'),\n",
       " ('<s>', '<s>', 'd4', 'd5', 'Bf4'),\n",
       " ('<s>', 'd4', 'd5', 'Bf4', 'Bf5'),\n",
       " ('d4', 'd5', 'Bf4', 'Bf5', 'Nc3'),\n",
       " ('d5', 'Bf4', 'Bf5', 'Nc3', 'c6')]"
      ]
     },
     "execution_count": 176,
     "metadata": {},
     "output_type": "execute_result"
    }
   ],
   "source": [
    "grams[:25]"
   ]
  },
  {
   "cell_type": "code",
   "execution_count": 29,
   "metadata": {},
   "outputs": [],
   "source": [
    "# initialize counters for probabilities\n",
    "probabilityValid = probabilityByMove()\n",
    "probabilityCorrect = probabilityByMove()\n",
    "probabilityCorrectIfValid = probabilityByMove()\n",
    "\n",
    "# used to keep track of valid moves by move number\n",
    "validCounter = CounterByMove()\n",
    "\n",
    "\n",
    "# run test\n",
    "for game in test:\n",
    "    # keep track of state in game\n",
    "    movesSoFar = ['<s>'] * 4\n",
    "    moveIndex = 0\n",
    "    for moveIndex, move in enumerate(game):\n",
    "        moves = ' '.join(movesSoFar[-4::])\n",
    "        search =  moveDict.get(moves, {})\n",
    "        probValid,validMoves  = probabilityMoveValid(' '.join(movesSoFar), search)\n",
    "        validCounter.addMoves(moveIndex, validMoves)\n",
    "        probSame = probabilityMoveSame(search, move)\n",
    "        probabilityValid[moveIndex] += probValid\n",
    "        if probValid > 0:\n",
    "            probabilityCorrectIfValid[moveIndex] += probSame\n",
    "        probabilityCorrect[moveIndex] += probSame\n",
    "        movesSoFar.append(move)\n"
   ]
  },
  {
   "cell_type": "code",
   "execution_count": 179,
   "metadata": {},
   "outputs": [
    {
     "data": {
      "text/plain": [
       "3779"
      ]
     },
     "execution_count": 179,
     "metadata": {},
     "output_type": "execute_result"
    }
   ],
   "source": [
    "len(test)"
   ]
  },
  {
   "cell_type": "code",
   "execution_count": 30,
   "metadata": {},
   "outputs": [
    {
     "data": {
      "text/plain": [
       "(0.15031562579979116, 0.09231569582309467, 0.787501560672794)"
      ]
     },
     "execution_count": 30,
     "metadata": {},
     "output_type": "execute_result"
    }
   ],
   "source": [
    "probabilityValid.average(), probabilityCorrect.average(),probabilityCorrectIfValid.average()"
   ]
  },
  {
   "cell_type": "code",
   "execution_count": 182,
   "metadata": {},
   "outputs": [
    {
     "data": {
      "image/png": "[encoded data removed]",
      "text/plain": [
       "<Figure size 640x480 with 1 Axes>"
      ]
     },
     "metadata": {},
     "output_type": "display_data"
    }
   ],
   "source": [
    "# comparing the probabilities of valid moves and correct moves for each move number \n",
    "rangeOfPlot = [x for x in range(len(probabilityCorrect.averages()))]\n",
    "sns.set_theme(style=\"whitegrid\")\n",
    "\n",
    "# creating subplots\n",
    "fig, ax = plt.subplots()\n",
    "\n",
    "# plotting columns\n",
    "sns.barplot(x=rangeOfPlot, y=probabilityValid.averages(), color=\"green\", ax=ax, label='Probability Valid')\n",
    "sns.barplot(x=rangeOfPlot, y=probabilityCorrect.averages(), color=\"blue\", ax=ax, label='Probability Correct',alpha=1)\n",
    "\n",
    "# renaming the axes\n",
    "ax.set(xlabel=\"Move Number\", ylabel=\"Probability\")\n",
    "\n",
    "# setting ticks for x-axis\n",
    "ax.set_xticks(rangeOfPlot[::10])\n",
    "ax.set_xticklabels(rangeOfPlot[::10])\n",
    "\n",
    "# adding legend\n",
    "ax.legend(title='probabilities by move', title_fontsize='large', fontsize='large')\n",
    "\n",
    "# visualizing illustration\n",
    "plt.show()"
   ]
  },
  {
   "cell_type": "code",
   "execution_count": 183,
   "metadata": {},
   "outputs": [
    {
     "data": {
      "text/plain": [
       "<AxesSubplot: >"
      ]
     },
     "execution_count": 183,
     "metadata": {},
     "output_type": "execute_result"
    },
    {
     "data": {
      "image/png": "[encoded data removed]",
      "text/plain": [
       "<Figure size 640x480 with 1 Axes>"
      ]
     },
     "metadata": {},
     "output_type": "display_data"
    }
   ],
   "source": [
    "rangeOfPlot = [x for x in range(len(probabilityCorrectIfValid.averages()))]\n",
    "# sns.histplot(x =probabilityValid.averages(), bins=15)\n",
    "sns.set_theme(style=\"whitegrid\", )\n",
    "sns.color_palette(\"light:#5A9\", as_cmap=True)\n",
    "plot = sns.barplot(x=rangeOfPlot, y=probabilityCorrectIfValid.averages(), color=\"blue\")\n",
    "ax.legend(title='probabilities by move', title_fontsize='large', fontsize='large')\n",
    "\n",
    "\n",
    "plt.xticks(rangeOfPlot[::10], rangeOfPlot[::10])\n",
    "plot"
   ]
  },
  {
   "attachments": {},
   "cell_type": "markdown",
   "metadata": {},
   "source": [
    "### graphs\n"
   ]
  },
  {
   "attachments": {},
   "cell_type": "markdown",
   "metadata": {},
   "source": [
    "# train and test Embedding models\n"
   ]
  },
  {
   "attachments": {},
   "cell_type": "markdown",
   "metadata": {},
   "source": [
    "## train word2Vec\n"
   ]
  },
  {
   "cell_type": "code",
   "execution_count": 11,
   "metadata": {},
   "outputs": [],
   "source": [
    "# Initialize the Word2Vec model\n",
    "VectorSize = 32\n",
    "window = 5\n",
    "\n",
    "model = Word2Vec(train, window=window, vector_size=VectorSize)"
   ]
  },
  {
   "attachments": {},
   "cell_type": "markdown",
   "metadata": {},
   "source": [
    "## prepare model"
   ]
  },
  {
   "cell_type": "code",
   "execution_count": 14,
   "metadata": {},
   "outputs": [],
   "source": [
    "moveSet = set()\n",
    "moveDict = {}\n",
    "for game in train:\n",
    "    movesSoFar = ''\n",
    "    for moveIndex, move in enumerate(game):\n",
    "        if moveIndex == len(game)-1:\n",
    "            continue\n",
    "        if moveIndex == 0:\n",
    "            incrementCount(moveDict,movesSoFar,move)\n",
    "            moveSet.add(movesSoFar)       \n",
    "            movesSoFar += ' ' +  move \n",
    "            movesSoFar = movesSoFar.strip()\n",
    "            continue\n",
    "        incrementCount(moveDict,movesSoFar,game[moveIndex])\n",
    "        moveSet.add(movesSoFar.strip())\n",
    "        movesSoFar += ' ' +  move\n",
    "        movesSoFar = movesSoFar.strip()\n",
    "        \n",
    "        "
   ]
  },
  {
   "cell_type": "code",
   "execution_count": 266,
   "metadata": {},
   "outputs": [
    {
     "data": {
      "text/plain": [
       "{'Nf3': 3234,\n",
       " 'd3': 112,\n",
       " 'Bc4': 391,\n",
       " 'Qh5': 151,\n",
       " 'c4': 27,\n",
       " 'f4': 177,\n",
       " 'Nc3': 102,\n",
       " 'd4': 248,\n",
       " 'a3': 14,\n",
       " 'b3': 3,\n",
       " 'Qf3': 47,\n",
       " 'Bb5': 18,\n",
       " 'Ke2': 3,\n",
       " 'c3': 16,\n",
       " 'g3': 6,\n",
       " 'f3': 17,\n",
       " 'Ne2': 3,\n",
       " 'Bd3': 7,\n",
       " 'a4': 1,\n",
       " 'Qg4': 2,\n",
       " 'g4': 3,\n",
       " 'h3': 4,\n",
       " 'b4': 1,\n",
       " 'Be2': 1,\n",
       " 'h4': 1}"
      ]
     },
     "execution_count": 266,
     "metadata": {},
     "output_type": "execute_result"
    }
   ],
   "source": [
    "# example of moveDict\n",
    "moveDict['e4 e5']"
   ]
  },
  {
   "attachments": {},
   "cell_type": "markdown",
   "metadata": {},
   "source": []
  },
  {
   "cell_type": "code",
   "execution_count": 267,
   "metadata": {},
   "outputs": [
    {
     "data": {
      "text/plain": [
       "'Nf3'"
      ]
     },
     "execution_count": 267,
     "metadata": {},
     "output_type": "execute_result"
    }
   ],
   "source": [
    "# get a random move from the moveDict based on probability\n",
    "randomMove(moveDict['e4 e5'])"
   ]
  },
  {
   "cell_type": "code",
   "execution_count": 268,
   "metadata": {},
   "outputs": [
    {
     "data": {
      "text/plain": [
       "{'Nf3': 0.7047286990629766,\n",
       " 'd3': 0.02440618871213772,\n",
       " 'Bc4': 0.0852037480932665,\n",
       " 'Qh5': 0.03290477228154282,\n",
       " 'c4': 0.005883634778818915,\n",
       " 'f4': 0.03857049466114622,\n",
       " 'Nc3': 0.022227064719982568,\n",
       " 'd4': 0.05404227500544781,\n",
       " 'a3': 0.003050773589017215,\n",
       " 'b3': 0.0006537371976465461,\n",
       " 'Qf3': 0.010241882763129222,\n",
       " 'Bb5': 0.003922423185879277,\n",
       " 'Ke2': 0.0006537371976465461,\n",
       " 'c3': 0.003486598387448246,\n",
       " 'g3': 0.0013074743952930922,\n",
       " 'f3': 0.0037045107866637613,\n",
       " 'Ne2': 0.0006537371976465461,\n",
       " 'Bd3': 0.0015253867945086074,\n",
       " 'a4': 0.00021791239921551536,\n",
       " 'Qg4': 0.00043582479843103073,\n",
       " 'g4': 0.0006537371976465461,\n",
       " 'h3': 0.0008716495968620615,\n",
       " 'b4': 0.00021791239921551536,\n",
       " 'Be2': 0.00021791239921551536,\n",
       " 'h4': 0.00021791239921551536}"
      ]
     },
     "execution_count": 268,
     "metadata": {},
     "output_type": "execute_result"
    }
   ],
   "source": [
    "# show the probabilities of the next move options\n",
    "calculateProbability(moveDict['e4 e5'])"
   ]
  },
  {
   "attachments": {},
   "cell_type": "markdown",
   "metadata": {},
   "source": [
    "### separate white and black moves"
   ]
  },
  {
   "cell_type": "code",
   "execution_count": 15,
   "metadata": {},
   "outputs": [],
   "source": [
    "# put all moves are in one list \n",
    "moveArr = list(moveSet)\n",
    "\n",
    "# split the moves into white and black moves\n",
    "whiteMoves = [move for move in moveArr if len(move.split()) % 2 == 0]\n",
    "blackMoves = [move for move in moveArr if len(move.split()) % 2 == 1]"
   ]
  },
  {
   "cell_type": "code",
   "execution_count": 16,
   "metadata": {},
   "outputs": [
    {
     "data": {
      "text/plain": [
       "(['', 'c3 d5 d4 e6 Nf3 Nf6 Bf4 Bd6 e3 Bxf4 exf4 O-O'],\n",
       " ['e4 e5 Nf3 Bd6 Nc3 Nf6 Bc4 O-O d4 exd4 Qxd4 Nc6 Qd3 Ne5 Nxe5 Bxe5 Bg5',\n",
       "  'e4 e6 e5 Nc6 Nf3 d5 d4 Bd7 c4 a6 c5'])"
      ]
     },
     "execution_count": 16,
     "metadata": {},
     "output_type": "execute_result"
    }
   ],
   "source": [
    "whiteMoves[:2], blackMoves[:2]"
   ]
  },
  {
   "attachments": {},
   "cell_type": "markdown",
   "metadata": {},
   "source": [
    "## create two embedding indexes one for white moves one for black\n"
   ]
  },
  {
   "cell_type": "code",
   "execution_count": 17,
   "metadata": {},
   "outputs": [],
   "source": [
    "def average_vector(moves : list | str):\n",
    "    vectors = []\n",
    "    if type(moves) == str:\n",
    "        moves = moves.split()\n",
    "    \n",
    "    for move in moves:\n",
    "        if move in model.wv:\n",
    "            vectors.append(model.wv[move])\n",
    "    if len(vectors) == 0:\n",
    "        return np.zeros(model.wv.vector_size)\n",
    "    return np.mean(vectors, axis=0)"
   ]
  },
  {
   "cell_type": "code",
   "execution_count": 18,
   "metadata": {},
   "outputs": [
    {
     "data": {
      "text/plain": [
       "(360269, 360452)"
      ]
     },
     "execution_count": 18,
     "metadata": {},
     "output_type": "execute_result"
    }
   ],
   "source": [
    "whiteIndex = faiss.IndexFlatL2(VectorSize)\n",
    "blackIndex = faiss.IndexFlatL2(VectorSize)\n",
    "whiteIndex.add(np.array([average_vector(move) for move in whiteMoves]))\n",
    "blackIndex.add(np.array([average_vector(move) for move in blackMoves]))\n",
    "whiteIndex.ntotal, blackIndex.ntotal\n"
   ]
  },
  {
   "attachments": {},
   "cell_type": "markdown",
   "metadata": {},
   "source": [
    "## Word2VecSpecific Functions\n"
   ]
  },
  {
   "cell_type": "code",
   "execution_count": 19,
   "metadata": {},
   "outputs": [],
   "source": [
    "def searchVectors(moves : str,top_k=10 ):\n",
    "    average = np.array([average_vector(moves)])\n",
    "    if len(moves.strip().split()) % 2 == 0:\n",
    "        _,I =  whiteIndex.search(average, top_k)\n",
    "        return [(whiteMoves[i], moveDict[whiteMoves[i]]) for i in I[0]]\n",
    "    else:\n",
    "        _,I =  blackIndex.search(average, top_k)\n",
    "        return [(blackMoves[i], moveDict[blackMoves[i]]) for i in I[0]]\n",
    "\n",
    "def addDicts(dicts:list):\n",
    "    'adds the values of a list of dicts and returns a new dict'\n",
    "    result = {}\n",
    "    for dic in dicts:\n",
    "        for key in dic:\n",
    "            if key in result:\n",
    "                result[key] += dic[key]\n",
    "            else:\n",
    "                result[key] = dic[key]\n",
    "    return result\n",
    "\n",
    "\n",
    "def multiplyDict(dic:dict, num:int):\n",
    "    'multiplies the values of a dict by a number and returns a new dict'\n",
    "    result = {}\n",
    "    for key in dic:\n",
    "        result[key] = dic[key] * num\n",
    "    return result\n",
    "\n",
    "def normalizedVectorSearch(moves : str,top_k=10):\n",
    "    result = searchVectors(moves, top_k=top_k)\n",
    "    possibleMoves = [x[1] for x in result]\n",
    "    multiplied = []\n",
    "    for i, dic  in enumerate(possibleMoves):\n",
    "        multiplied.append( multiplyDict(dic, top_k-i))\n",
    "\n",
    "    return addDicts(multiplied)\n"
   ]
  },
  {
   "attachments": {},
   "cell_type": "markdown",
   "metadata": {},
   "source": [
    "## search for the \"nearest\" move's with searchVectors\n"
   ]
  },
  {
   "cell_type": "code",
   "execution_count": 274,
   "metadata": {},
   "outputs": [
    {
     "name": "stdout",
     "output_type": "stream",
     "text": [
      "CPU times: user 5.18 ms, sys: 4.87 ms, total: 10.1 ms\n",
      "Wall time: 10.3 ms\n"
     ]
    },
    {
     "data": {
      "text/plain": [
       "[('e4 e5 c4',\n",
       "  {'Nf6': 11, 'Bc5': 5, 'f6': 1, 'Qh4': 2, 'Nc6': 5, 'd6': 2, 'b6': 1}),\n",
       " ('c4 e5 e4',\n",
       "  {'Nf6': 6, 'c6': 1, 'd6': 1, 'Nc6': 1, 'Bc5': 2, 'Bb4': 1, 'f6': 1}),\n",
       " ('e4 e5 c4 Nc6 d4', {'Nxd4': 1}),\n",
       " ('c4 e5 e4 f6 d4', {'g5': 1}),\n",
       " ('e4 Nc6 d4 e5 d5 Nce7 c4', {'Ng6': 2})]"
      ]
     },
     "execution_count": 274,
     "metadata": {},
     "output_type": "execute_result"
    }
   ],
   "source": [
    "%%time\n",
    "searchVectors('e4 e5 c4 ', top_k=5)"
   ]
  },
  {
   "attachments": {},
   "cell_type": "markdown",
   "metadata": {},
   "source": [
    "###  play random moves that seem viable based on nearby vectors"
   ]
  },
  {
   "cell_type": "code",
   "execution_count": 275,
   "metadata": {},
   "outputs": [
    {
     "name": "stdout",
     "output_type": "stream",
     "text": [
      "e4 e5 c4 Nf6\n",
      "e4 e5 c4 Bb4\n",
      "e4 e5 c4 Nxd4\n",
      "e4 e5 c4 g5\n",
      "e4 e5 c4 Ng6\n"
     ]
    }
   ],
   "source": [
    "gram = 'e4 e5 c4'\n",
    "for _, dic in searchVectors(gram, top_k=5):\n",
    "    print(gram, randomMove(dic))"
   ]
  },
  {
   "attachments": {},
   "cell_type": "markdown",
   "metadata": {},
   "source": [
    "## Test"
   ]
  },
  {
   "cell_type": "code",
   "execution_count": 24,
   "metadata": {},
   "outputs": [],
   "source": [
    "# initialize counters for probabilities\n",
    "probabilityValid = probabilityByMove()\n",
    "probabilityCorrect = probabilityByMove()\n",
    "probabilityCorrectIfValid = probabilityByMove()\n",
    "validCounter = CounterByMove()\n",
    "\n",
    "\n",
    "# run test\n",
    "for game in test:\n",
    "    # keep track of state in game resets every game\n",
    "    movesSoFar = ''\n",
    "    moveIndex = 0\n",
    "    for move in game:\n",
    "        # change top_k to change number of options to consider\n",
    "        search = normalizedVectorSearch(movesSoFar, top_k=1)\n",
    "        probValid,validMoves  = probabilityMoveValid(movesSoFar, search)\n",
    "        validCounter.addMoves(moveIndex, validMoves)\n",
    "        probSame = probabilityMoveSame(search, move)\n",
    "        probabilityValid[moveIndex] += probValid\n",
    "        if probValid > 0:\n",
    "            probabilityCorrectIfValid[moveIndex] += probSame\n",
    "        probabilityCorrect[moveIndex] += probSame\n",
    "        movesSoFar += ' ' + move \n",
    "        movesSoFar = movesSoFar.strip()\n",
    "        moveIndex += 1\n"
   ]
  },
  {
   "cell_type": "code",
   "execution_count": 26,
   "metadata": {},
   "outputs": [
    {
     "data": {
      "text/plain": [
       "(0.09833627608689706, 0.25962378129699, 0.43295106363992825)"
      ]
     },
     "execution_count": 26,
     "metadata": {},
     "output_type": "execute_result"
    }
   ],
   "source": [
    "probabilityCorrect.average(), probabilityValid.average(), probabilityCorrectIfValid.average()"
   ]
  },
  {
   "cell_type": "code",
   "execution_count": 211,
   "metadata": {},
   "outputs": [
    {
     "data": {
      "text/plain": [
       "<AxesSubplot: xlabel='move number', ylabel='probability'>"
      ]
     },
     "execution_count": 211,
     "metadata": {},
     "output_type": "execute_result"
    },
    {
     "data": {
      "image/png": "[encoded data removed]",
      "text/plain": [
       "<Figure size 640x480 with 1 Axes>"
      ]
     },
     "metadata": {},
     "output_type": "display_data"
    }
   ],
   "source": [
    "# plot probability of correct move if valid move\n",
    "\n",
    "rangeOfPlot = [x for x in range(len(probabilityCorrectIfValid.averages()))]\n",
    "# sns.histplot(x =probabilityValid.averages(), bins=15)\n",
    "sns.set_theme(style=\"whitegrid\", )\n",
    "sns.color_palette(\"light:#5A9\", as_cmap=True)\n",
    "plt.xlabel('move number')\n",
    "plt.ylabel('probability')\n",
    "plot = sns.barplot(x=rangeOfPlot, y=probabilityCorrectIfValid.averages(), color=\"blue\")\n",
    "\n",
    "plt.xticks(rangeOfPlot[::10], rangeOfPlot[::10])\n",
    "plot"
   ]
  },
  {
   "cell_type": "code",
   "execution_count": 212,
   "metadata": {},
   "outputs": [
    {
     "data": {
      "image/png": "[encoded data removed]",
      "text/plain": [
       "<Figure size 640x480 with 1 Axes>"
      ]
     },
     "metadata": {},
     "output_type": "display_data"
    }
   ],
   "source": [
    "# plot comparing probability of correct move and probability of valid move\n",
    "\n",
    "rangeOfPlot = [x for x in range(len(probabilityCorrectIfValid.averages()))]\n",
    "sns.set_theme(style=\"whitegrid\")\n",
    "\n",
    "# creating subplots\n",
    "fig, ax = plt.subplots()\n",
    "\n",
    "# plotting columns\n",
    "sns.barplot(x=rangeOfPlot, y=probabilityValid.averages(), color=\"green\", ax=ax, label='Probability Valid')\n",
    "sns.barplot(x=rangeOfPlot, y=probabilityCorrect.averages(), color=\"blue\", ax=ax, label='Probability Correct',alpha=1)\n",
    "\n",
    "# renaming the axes\n",
    "ax.set(xlabel=\"Move Number\", ylabel=\"Probability\")\n",
    "\n",
    "# setting ticks for x-axis\n",
    "ax.set_xticks(rangeOfPlot[::10])\n",
    "ax.set_xticklabels(rangeOfPlot[::10])\n",
    "\n",
    "# adding legend\n",
    "ax.legend(title='probabilities by move', title_fontsize='large', fontsize='large')\n",
    "\n",
    "# visualizing illustration\n",
    "plt.show()"
   ]
  },
  {
   "cell_type": "code",
   "execution_count": 170,
   "metadata": {},
   "outputs": [
    {
     "data": {
      "image/png": "[encoded data removed]",
      "text/plain": [
       "<Figure size 640x480 with 1 Axes>"
      ]
     },
     "metadata": {},
     "output_type": "display_data"
    }
   ],
   "source": [
    "# plot probability of valid move and probability of correct move if valid move\n",
    "moveCounts = [x.count for x in probabilityValid]\n",
    "total = sum(moveCounts)\n",
    "movePercentages = [(x/total) *100 for x in moveCounts]\n",
    "\n",
    "rangeOfPlot = [x for x in range(len(probabilityCorrectIfValid.averages()))]\n",
    "\n",
    "sns.set_theme(style=\"whitegrid\", )\n",
    "sns.color_palette(\"light:#5A9\", as_cmap=True)\n",
    "\n",
    "validAverage2  =[x for x in probabilityCorrectIfValid.averages()]\n",
    "# creating subplots\n",
    "fig, ax = plt.subplots()\n",
    "\n",
    "\n",
    "\n",
    "\n",
    "sns.barplot(x=rangeOfPlot, y=movePercentages, color=\"red\", label='seen examples',alpha=.5)\n",
    "# sns.barplot(x=rangeOfPlot, y=validAverage2, color=\"blue\", label='valid move',alpha=.5)\n",
    "sns.barplot(x=rangeOfPlot, y=[x *100 for x in validCounter.validAverage()], color=\"green\", label='possible valid moves',alpha=.5)\n",
    "# renaming the axes\n",
    "ax.set(xlabel=\"Move Number\", ylabel=\"representation by %\")\n",
    "ax.legend(title='representation by move', title_fontsize='large', fontsize='large')\n",
    "\n",
    "plt.xticks(rangeOfPlot[::10])\n",
    "\n",
    "plt.show()"
   ]
  }
 ],
 "metadata": {
  "kernelspec": {
   "display_name": "Python 3",
   "language": "python",
   "name": "python3"
  },
  "language_info": {
   "codemirror_mode": {
    "name": "ipython",
    "version": 3
   },
   "file_extension": ".py",
   "mimetype": "text/x-python",
   "name": "python",
   "nbconvert_exporter": "python",
   "pygments_lexer": "ipython3",
   "version": "3.10.11"
  },
  "orig_nbformat": 4
 },
 "nbformat": 4,
 "nbformat_minor": 2
}
